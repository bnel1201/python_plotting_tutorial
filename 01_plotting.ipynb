{
 "cells": [
  {
   "cell_type": "markdown",
   "metadata": {},
   "source": [
    "# 1. Plotting in Python and Jupyter Notebooks"
   ]
  },
  {
   "cell_type": "markdown",
   "metadata": {},
   "source": [
    "## Importing packages\n",
    "\n",
    "Once you open up a new python session (called a \"kernel\" in tech speak), before you can use any packages that you have installed you have to first `import` them.\n",
    "\n",
    "Some packages, such as matplotlib, are large so they are organized into *modules* that can seperately imported using a `.` seperator e.g.\n",
    "\n",
    "`import package.module`\n",
    "\n",
    "packages with longer names are typically imported with the `as` keyword to give them a shorter nickname, called the **namespace**. Note that some packages have standard import conventions like those used by matplotlib and numpy below and its best to follow those. "
   ]
  },
  {
   "cell_type": "code",
   "execution_count": 1,
   "metadata": {},
   "outputs": [],
   "source": [
    "import matplotlib.pyplot as plt\n",
    "import numpy as np"
   ]
  },
  {
   "cell_type": "markdown",
   "metadata": {},
   "source": [
    "In Python namespaces are used to differentiate which functions are from which package. So two packages `pkgA` and `pkgB` could have functions with the same name `func` that do different things, so you can use both in the session by calling them as `pkgA.func` and `pkgB.func`"
   ]
  },
  {
   "cell_type": "markdown",
   "metadata": {},
   "source": [
    "## Our first bar chart using `plt.bar`"
   ]
  },
  {
   "cell_type": "markdown",
   "metadata": {},
   "source": [
    "### Getting help with `?`"
   ]
  },
  {
   "cell_type": "markdown",
   "metadata": {},
   "source": [
    "To learn more about any function, start by typing out the name of the function followed (or preceded by a `?`), this will give you the most accurate information of your specific version as sometimes the internet can be outdated or contradictory"
   ]
  },
  {
   "cell_type": "code",
   "execution_count": 23,
   "metadata": {},
   "outputs": [
    {
     "data": {
      "text/plain": [
       "\u001b[1;31mSignature:\u001b[0m\n",
       "\u001b[0mplt\u001b[0m\u001b[1;33m.\u001b[0m\u001b[0mbar\u001b[0m\u001b[1;33m(\u001b[0m\u001b[1;33m\n",
       "\u001b[0m    \u001b[0mx\u001b[0m\u001b[1;33m,\u001b[0m\u001b[1;33m\n",
       "\u001b[0m    \u001b[0mheight\u001b[0m\u001b[1;33m,\u001b[0m\u001b[1;33m\n",
       "\u001b[0m    \u001b[0mwidth\u001b[0m\u001b[1;33m=\u001b[0m\u001b[1;36m0.8\u001b[0m\u001b[1;33m,\u001b[0m\u001b[1;33m\n",
       "\u001b[0m    \u001b[0mbottom\u001b[0m\u001b[1;33m=\u001b[0m\u001b[1;32mNone\u001b[0m\u001b[1;33m,\u001b[0m\u001b[1;33m\n",
       "\u001b[0m    \u001b[1;33m*\u001b[0m\u001b[1;33m,\u001b[0m\u001b[1;33m\n",
       "\u001b[0m    \u001b[0malign\u001b[0m\u001b[1;33m=\u001b[0m\u001b[1;34m'center'\u001b[0m\u001b[1;33m,\u001b[0m\u001b[1;33m\n",
       "\u001b[0m    \u001b[0mdata\u001b[0m\u001b[1;33m=\u001b[0m\u001b[1;32mNone\u001b[0m\u001b[1;33m,\u001b[0m\u001b[1;33m\n",
       "\u001b[0m    \u001b[1;33m**\u001b[0m\u001b[0mkwargs\u001b[0m\u001b[1;33m,\u001b[0m\u001b[1;33m\n",
       "\u001b[0m\u001b[1;33m)\u001b[0m\u001b[1;33m\u001b[0m\u001b[1;33m\u001b[0m\u001b[0m\n",
       "\u001b[1;31mDocstring:\u001b[0m\n",
       "Make a bar plot.\n",
       "\n",
       "The bars are positioned at *x* with the given *align*\\ment. Their\n",
       "dimensions are given by *height* and *width*. The vertical baseline\n",
       "is *bottom* (default 0).\n",
       "\n",
       "Many parameters can take either a single value applying to all bars\n",
       "or a sequence of values, one for each bar.\n",
       "\n",
       "Parameters\n",
       "----------\n",
       "x : float or array-like\n",
       "    The x coordinates of the bars. See also *align* for the\n",
       "    alignment of the bars to the coordinates.\n",
       "\n",
       "height : float or array-like\n",
       "    The height(s) of the bars.\n",
       "\n",
       "width : float or array-like, default: 0.8\n",
       "    The width(s) of the bars.\n",
       "\n",
       "bottom : float or array-like, default: 0\n",
       "    The y coordinate(s) of the bars bases.\n",
       "\n",
       "align : {'center', 'edge'}, default: 'center'\n",
       "    Alignment of the bars to the *x* coordinates:\n",
       "\n",
       "    - 'center': Center the base on the *x* positions.\n",
       "    - 'edge': Align the left edges of the bars with the *x* positions.\n",
       "\n",
       "    To align the bars on the right edge pass a negative *width* and\n",
       "    ``align='edge'``.\n",
       "\n",
       "Returns\n",
       "-------\n",
       "`.BarContainer`\n",
       "    Container with all the bars and optionally errorbars.\n",
       "\n",
       "Other Parameters\n",
       "----------------\n",
       "color : color or list of color, optional\n",
       "    The colors of the bar faces.\n",
       "\n",
       "edgecolor : color or list of color, optional\n",
       "    The colors of the bar edges.\n",
       "\n",
       "linewidth : float or array-like, optional\n",
       "    Width of the bar edge(s). If 0, don't draw edges.\n",
       "\n",
       "tick_label : str or list of str, optional\n",
       "    The tick labels of the bars.\n",
       "    Default: None (Use default numeric labels.)\n",
       "\n",
       "xerr, yerr : float or array-like of shape(N,) or shape(2, N), optional\n",
       "    If not *None*, add horizontal / vertical errorbars to the bar tips.\n",
       "    The values are +/- sizes relative to the data:\n",
       "\n",
       "    - scalar: symmetric +/- values for all bars\n",
       "    - shape(N,): symmetric +/- values for each bar\n",
       "    - shape(2, N): Separate - and + values for each bar. First row\n",
       "      contains the lower errors, the second row contains the upper\n",
       "      errors.\n",
       "    - *None*: No errorbar. (Default)\n",
       "\n",
       "    See :doc:`/gallery/statistics/errorbar_features`\n",
       "    for an example on the usage of ``xerr`` and ``yerr``.\n",
       "\n",
       "ecolor : color or list of color, default: 'black'\n",
       "    The line color of the errorbars.\n",
       "\n",
       "capsize : float, default: :rc:`errorbar.capsize`\n",
       "   The length of the error bar caps in points.\n",
       "\n",
       "error_kw : dict, optional\n",
       "    Dictionary of kwargs to be passed to the `~.Axes.errorbar`\n",
       "    method. Values of *ecolor* or *capsize* defined here take\n",
       "    precedence over the independent kwargs.\n",
       "\n",
       "log : bool, default: False\n",
       "    If *True*, set the y-axis to be log scale.\n",
       "\n",
       "**kwargs : `.Rectangle` properties\n",
       "\n",
       "Properties:\n",
       "    agg_filter: a filter function, which takes a (m, n, 3) float array and a dpi value, and returns a (m, n, 3) array\n",
       "    alpha: float or None\n",
       "    animated: bool\n",
       "    antialiased or aa: unknown\n",
       "    capstyle: {'butt', 'round', 'projecting'}\n",
       "    clip_box: `.Bbox`\n",
       "    clip_on: bool\n",
       "    clip_path: Patch or (Path, Transform) or None\n",
       "    color: color\n",
       "    contains: unknown\n",
       "    edgecolor or ec: color or None or 'auto'\n",
       "    facecolor or fc: color or None\n",
       "    figure: `.Figure`\n",
       "    fill: bool\n",
       "    gid: str\n",
       "    hatch: {'/', '\\\\', '|', '-', '+', 'x', 'o', 'O', '.', '*'}\n",
       "    in_layout: bool\n",
       "    joinstyle: {'miter', 'round', 'bevel'}\n",
       "    label: object\n",
       "    linestyle or ls: {'-', '--', '-.', ':', '', (offset, on-off-seq), ...}\n",
       "    linewidth or lw: float or None\n",
       "    path_effects: `.AbstractPathEffect`\n",
       "    picker: None or bool or callable\n",
       "    rasterized: bool or None\n",
       "    sketch_params: (scale: float, length: float, randomness: float)\n",
       "    snap: bool or None\n",
       "    transform: `.Transform`\n",
       "    url: str\n",
       "    visible: bool\n",
       "    zorder: float\n",
       "\n",
       "See Also\n",
       "--------\n",
       "barh: Plot a horizontal bar plot.\n",
       "\n",
       "Notes\n",
       "-----\n",
       "Stacked bars can be achieved by passing individual *bottom* values per\n",
       "bar. See :doc:`/gallery/lines_bars_and_markers/bar_stacked`.\n",
       "\n",
       ".. note::\n",
       "    In addition to the above described arguments, this function can take\n",
       "    a *data* keyword argument. If such a *data* argument is given,\n",
       "    every other argument can also be string ``s``, which is\n",
       "    interpreted as ``data[s]`` (unless this raises an exception).\n",
       "\n",
       "    Objects passed as **data** must support item access (``data[s]``) and\n",
       "    membership test (``s in data``).\n",
       "\u001b[1;31mFile:\u001b[0m      c:\\users\\m163524\\.venvs\\plotenv\\lib\\site-packages\\matplotlib\\pyplot.py\n",
       "\u001b[1;31mType:\u001b[0m      function\n"
      ]
     },
     "metadata": {},
     "output_type": "display_data"
    }
   ],
   "source": [
    "plt.bar?"
   ]
  },
  {
   "cell_type": "markdown",
   "metadata": {},
   "source": [
    "## Make some random data"
   ]
  },
  {
   "cell_type": "code",
   "execution_count": 22,
   "metadata": {},
   "outputs": [
    {
     "data": {
      "text/plain": [
       "array([1.25736521, 2.54611122, 0.41884101, 1.06701644, 0.58696086,\n",
       "       0.93000125, 1.11302251, 1.77051208])"
      ]
     },
     "execution_count": 22,
     "metadata": {},
     "output_type": "execute_result"
    }
   ],
   "source": [
    "height = np.abs(np.random.randn(8))\n",
    "height"
   ]
  },
  {
   "cell_type": "code",
   "execution_count": 24,
   "metadata": {},
   "outputs": [
    {
     "data": {
      "text/plain": [
       "[0, 1, 2, 3, 4, 5, 6, 7]"
      ]
     },
     "execution_count": 24,
     "metadata": {},
     "output_type": "execute_result"
    }
   ],
   "source": [
    "x = list(range(len(height)))\n",
    "x"
   ]
  },
  {
   "cell_type": "code",
   "execution_count": 5,
   "metadata": {},
   "outputs": [
    {
     "data": {
      "text/plain": [
       "\u001b[1;31mSignature:\u001b[0m \u001b[0mlen\u001b[0m\u001b[1;33m(\u001b[0m\u001b[0mobj\u001b[0m\u001b[1;33m,\u001b[0m \u001b[1;33m/\u001b[0m\u001b[1;33m)\u001b[0m\u001b[1;33m\u001b[0m\u001b[1;33m\u001b[0m\u001b[0m\n",
       "\u001b[1;31mDocstring:\u001b[0m Return the number of items in a container.\n",
       "\u001b[1;31mType:\u001b[0m      builtin_function_or_method\n"
      ]
     },
     "metadata": {},
     "output_type": "display_data"
    }
   ],
   "source": [
    "len?"
   ]
  },
  {
   "cell_type": "code",
   "execution_count": 6,
   "metadata": {},
   "outputs": [
    {
     "data": {
      "text/plain": [
       "\u001b[1;31mInit signature:\u001b[0m \u001b[0mrange\u001b[0m\u001b[1;33m(\u001b[0m\u001b[0mself\u001b[0m\u001b[1;33m,\u001b[0m \u001b[1;33m/\u001b[0m\u001b[1;33m,\u001b[0m \u001b[1;33m*\u001b[0m\u001b[0margs\u001b[0m\u001b[1;33m,\u001b[0m \u001b[1;33m**\u001b[0m\u001b[0mkwargs\u001b[0m\u001b[1;33m)\u001b[0m\u001b[1;33m\u001b[0m\u001b[1;33m\u001b[0m\u001b[0m\n",
       "\u001b[1;31mDocstring:\u001b[0m     \n",
       "range(stop) -> range object\n",
       "range(start, stop[, step]) -> range object\n",
       "\n",
       "Return an object that produces a sequence of integers from start (inclusive)\n",
       "to stop (exclusive) by step.  range(i, j) produces i, i+1, i+2, ..., j-1.\n",
       "start defaults to 0, and stop is omitted!  range(4) produces 0, 1, 2, 3.\n",
       "These are exactly the valid indices for a list of 4 elements.\n",
       "When step is given, it specifies the increment (or decrement).\n",
       "\u001b[1;31mType:\u001b[0m           type\n",
       "\u001b[1;31mSubclasses:\u001b[0m     \n"
      ]
     },
     "metadata": {},
     "output_type": "display_data"
    }
   ],
   "source": [
    "range?"
   ]
  },
  {
   "cell_type": "code",
   "execution_count": 7,
   "metadata": {},
   "outputs": [
    {
     "data": {
      "text/plain": [
       "\u001b[1;31mInit signature:\u001b[0m \u001b[0mlist\u001b[0m\u001b[1;33m(\u001b[0m\u001b[0miterable\u001b[0m\u001b[1;33m=\u001b[0m\u001b[1;33m(\u001b[0m\u001b[1;33m)\u001b[0m\u001b[1;33m,\u001b[0m \u001b[1;33m/\u001b[0m\u001b[1;33m)\u001b[0m\u001b[1;33m\u001b[0m\u001b[1;33m\u001b[0m\u001b[0m\n",
       "\u001b[1;31mDocstring:\u001b[0m     \n",
       "Built-in mutable sequence.\n",
       "\n",
       "If no argument is given, the constructor creates a new empty list.\n",
       "The argument must be an iterable if specified.\n",
       "\u001b[1;31mType:\u001b[0m           type\n",
       "\u001b[1;31mSubclasses:\u001b[0m     _HashedSeq, StackSummary, DeferredConfigList, SList, _ImmutableLineList, FormattedText, NodeList, _ExplodedList, Stack, _Accumulator, ...\n"
      ]
     },
     "metadata": {},
     "output_type": "display_data"
    }
   ],
   "source": [
    "list?"
   ]
  },
  {
   "cell_type": "code",
   "execution_count": 8,
   "metadata": {},
   "outputs": [
    {
     "data": {
      "text/plain": [
       "<BarContainer object of 8 artists>"
      ]
     },
     "execution_count": 8,
     "metadata": {},
     "output_type": "execute_result"
    },
    {
     "data": {
      "image/png": "[encoded data removed]",
      "text/plain": [
       "<Figure size 432x288 with 1 Axes>"
      ]
     },
     "metadata": {
      "needs_background": "light"
     },
     "output_type": "display_data"
    }
   ],
   "source": [
    "plt.bar(list(range(len(x))), height)"
   ]
  },
  {
   "cell_type": "markdown",
   "metadata": {},
   "source": [
    "Matplotlib is a *declarative* style library, meaning that you build up your plot sequentially, adding on commands."
   ]
  },
  {
   "cell_type": "code",
   "execution_count": 9,
   "metadata": {},
   "outputs": [
    {
     "data": {
      "text/plain": [
       "Text(0, 0.5, 'Relative intesity')"
      ]
     },
     "execution_count": 9,
     "metadata": {},
     "output_type": "execute_result"
    },
    {
     "data": {
      "image/png": "[encoded data removed]",
      "text/plain": [
       "<Figure size 432x288 with 1 Axes>"
      ]
     },
     "metadata": {
      "needs_background": "light"
     },
     "output_type": "display_data"
    }
   ],
   "source": [
    "plt.bar(list(range(len(x))), height)\n",
    "plt.xlabel(\"proteins\")\n",
    "plt.ylabel(\"Relative intesity\")"
   ]
  },
  {
   "cell_type": "markdown",
   "metadata": {},
   "source": [
    "## Make some random sample labels"
   ]
  },
  {
   "cell_type": "code",
   "execution_count": 10,
   "metadata": {},
   "outputs": [],
   "source": [
    "import random\n",
    "import string\n",
    "\n",
    "def get_random_string(length):\n",
    "    letters = string.ascii_lowercase\n",
    "    return ''.join(random.choice(letters) for i in range(length))"
   ]
  },
  {
   "cell_type": "code",
   "execution_count": 11,
   "metadata": {},
   "outputs": [
    {
     "data": {
      "text/plain": [
       "'mqu'"
      ]
     },
     "execution_count": 11,
     "metadata": {},
     "output_type": "execute_result"
    }
   ],
   "source": [
    "get_random_string(3)"
   ]
  },
  {
   "cell_type": "markdown",
   "metadata": {},
   "source": [
    "Below we perfom what is called a 'list comprehension' it is one of the most powerful features of Python and is worth taking some time to learn more about: [tutorial on list comprehensions](https://realpython.com/list-comprehension-python/)"
   ]
  },
  {
   "cell_type": "code",
   "execution_count": 12,
   "metadata": {},
   "outputs": [
    {
     "data": {
      "text/plain": [
       "['exc', 'lse', 'ife', 'yxt', 'umh', 'xpf', 'syj', 'zye']"
      ]
     },
     "execution_count": 12,
     "metadata": {},
     "output_type": "execute_result"
    }
   ],
   "source": [
    "protein_names = [get_random_string(3) for i in range(len(height))]\n",
    "protein_names"
   ]
  },
  {
   "cell_type": "markdown",
   "metadata": {},
   "source": [
    "Adding `plt.show()` or `plt.savefig(...)` signifies the end of your plot building statements for that particular figure."
   ]
  },
  {
   "cell_type": "code",
   "execution_count": 14,
   "metadata": {},
   "outputs": [
    {
     "data": {
      "image/png": "[encoded data removed]",
      "text/plain": [
       "<Figure size 432x288 with 1 Axes>"
      ]
     },
     "metadata": {
      "needs_background": "light"
     },
     "output_type": "display_data"
    }
   ],
   "source": [
    "fig, ax = plt.subplots()\n",
    "ax.bar(list(range(len(x))), height)\n",
    "plt.xlabel(\"proteins\")\n",
    "plt.ylabel(\"Relative intesity\")\n",
    "ax.set_xticks(x)\n",
    "ax.set_xticklabels(protein_names)\n",
    "plt.show()"
   ]
  },
  {
   "cell_type": "markdown",
   "metadata": {},
   "source": [
    "It's good practice to make functions whenever it makes sense to.\n",
    "\n",
    "To do this start with your inputs, here your protein intensities and names, and then put all of the intermediate calculations and values in the function to hide them away"
   ]
  },
  {
   "cell_type": "code",
   "execution_count": 17,
   "metadata": {},
   "outputs": [],
   "source": [
    "def make_bar_plot(protein_names, heights):\n",
    "    x = list(range(len(height)))\n",
    "    fig, ax = plt.subplots()\n",
    "    ax.bar(list(range(len(x))), height)\n",
    "    plt.xlabel(\"proteins\")\n",
    "    plt.ylabel(\"Relative intesity\")\n",
    "    ax.set_xticks(x)\n",
    "    ax.set_xticklabels(protein_names)"
   ]
  },
  {
   "cell_type": "code",
   "execution_count": 18,
   "metadata": {},
   "outputs": [
    {
     "data": {
      "image/png": "[encoded data removed]",
      "text/plain": [
       "<Figure size 432x288 with 1 Axes>"
      ]
     },
     "metadata": {
      "needs_background": "light"
     },
     "output_type": "display_data"
    }
   ],
   "source": [
    "make_bar_plot(protein_names, height)"
   ]
  },
  {
   "cell_type": "code",
   "execution_count": 19,
   "metadata": {},
   "outputs": [
    {
     "data": {
      "text/plain": [
       "<Figure size 432x288 with 0 Axes>"
      ]
     },
     "metadata": {},
     "output_type": "display_data"
    }
   ],
   "source": [
    "make_bar_plot\n",
    "plt.savefig('mybarplot.png')"
   ]
  },
  {
   "cell_type": "markdown",
   "metadata": {},
   "source": [
    "Now see that your plot has been saved"
   ]
  },
  {
   "cell_type": "code",
   "execution_count": 20,
   "metadata": {},
   "outputs": [
    {
     "data": {
      "text/plain": [
       "['.git',\n",
       " '.ipynb_checkpoints',\n",
       " 'images',\n",
       " 'mybarplot.png',\n",
       " 'plotting_01.ipynb',\n",
       " 'programming_environments.md',\n",
       " 'README.md']"
      ]
     },
     "execution_count": 20,
     "metadata": {},
     "output_type": "execute_result"
    }
   ],
   "source": [
    "import os\n",
    "os.listdir()"
   ]
  },
  {
   "cell_type": "markdown",
   "metadata": {},
   "source": [
    "## Save it for later\n",
    "\n",
    "Once you make a plotting function you like, its best practice to save it in a `.py` file (e.g. `plot_templates.py`) so you can reuse them later to save time and effort in the future.\n",
    "\n",
    "Try this now by making `plot_templates.py` and including all of the necesarry bits above to make your function then call it below as follows..."
   ]
  },
  {
   "cell_type": "code",
   "execution_count": 21,
   "metadata": {},
   "outputs": [
    {
     "ename": "ModuleNotFoundError",
     "evalue": "No module named 'plot_templates'",
     "output_type": "error",
     "traceback": [
      "\u001b[1;31m---------------------------------------------------------------------------\u001b[0m",
      "\u001b[1;31mModuleNotFoundError\u001b[0m                       Traceback (most recent call last)",
      "\u001b[1;32m<ipython-input-21-cd46031cff13>\u001b[0m in \u001b[0;36m<module>\u001b[1;34m\u001b[0m\n\u001b[1;32m----> 1\u001b[1;33m \u001b[1;32mimport\u001b[0m \u001b[0mplot_templates\u001b[0m\u001b[1;33m\u001b[0m\u001b[1;33m\u001b[0m\u001b[0m\n\u001b[0m\u001b[0;32m      2\u001b[0m \u001b[1;33m\u001b[0m\u001b[0m\n\u001b[0;32m      3\u001b[0m \u001b[0mplot_templates\u001b[0m\u001b[1;33m.\u001b[0m\u001b[0mmake_bar_plot\u001b[0m\u001b[1;33m(\u001b[0m\u001b[0mprotein_names\u001b[0m\u001b[1;33m,\u001b[0m \u001b[0mheight\u001b[0m\u001b[1;33m)\u001b[0m\u001b[1;33m\u001b[0m\u001b[1;33m\u001b[0m\u001b[0m\n",
      "\u001b[1;31mModuleNotFoundError\u001b[0m: No module named 'plot_templates'"
     ]
    }
   ],
   "source": [
    "import plot_templates\n",
    "\n",
    "plot_templates.make_bar_plot(protein_names, height)"
   ]
  },
  {
   "cell_type": "markdown",
   "metadata": {},
   "source": [
    "## Making subplots\n",
    "\n",
    "Let's copy paste some of our old code into a new function,\n",
    "\n",
    "specifically we will remove the `fig, ax = plt.subplots()` statement and move it outside and feed an axis `ax` as a new argument"
   ]
  },
  {
   "cell_type": "code",
   "execution_count": 25,
   "metadata": {},
   "outputs": [],
   "source": [
    "def make_bar_plot(protein_names, heights, ax):\n",
    "    x = list(range(len(height)))\n",
    "    ax.bar(list(range(len(x))), height)\n",
    "    plt.xlabel(\"proteins\")\n",
    "    plt.ylabel(\"Relative intesity\")\n",
    "    ax.set_xticks(x)\n",
    "    ax.set_xticklabels(protein_names)"
   ]
  },
  {
   "cell_type": "code",
   "execution_count": 28,
   "metadata": {},
   "outputs": [],
   "source": [
    "def random_heights(n=8): return np.abs(np.random.randn(n))"
   ]
  },
  {
   "cell_type": "code",
   "execution_count": 32,
   "metadata": {},
   "outputs": [],
   "source": [
    "def random_names(height): return [get_random_string(3) for i in range(len(height))]"
   ]
  },
  {
   "cell_type": "markdown",
   "metadata": {},
   "source": [
    "These functions have been moved into `utils.py` to be called from later notebooks"
   ]
  },
  {
   "cell_type": "code",
   "execution_count": 33,
   "metadata": {},
   "outputs": [
    {
     "data": {
      "text/plain": [
       "array([0.24415379, 0.55939563, 0.4640785 , 0.64059397, 0.48545099,\n",
       "       1.40823318, 2.1245805 , 0.05188945])"
      ]
     },
     "execution_count": 33,
     "metadata": {},
     "output_type": "execute_result"
    }
   ],
   "source": [
    "random_heights()"
   ]
  },
  {
   "cell_type": "code",
   "execution_count": 35,
   "metadata": {},
   "outputs": [
    {
     "data": {
      "text/plain": [
       "['ale', 'yxy', 'zcy', 'cne', 'zqi', 'nxk', 'rcq', 'ozx']"
      ]
     },
     "execution_count": 35,
     "metadata": {},
     "output_type": "execute_result"
    }
   ],
   "source": [
    "random_names(height)"
   ]
  },
  {
   "cell_type": "code",
   "execution_count": 48,
   "metadata": {},
   "outputs": [
    {
     "data": {
      "image/png": "[encoded data removed]",
      "text/plain": [
       "<Figure size 1296x432 with 6 Axes>"
      ]
     },
     "metadata": {
      "needs_background": "light"
     },
     "output_type": "display_data"
    }
   ],
   "source": [
    "fig = plt.figure(figsize=(18,6))\n",
    "for i in range(6):\n",
    "    ax = plt.subplot(2,3,i+1)\n",
    "    height = random_heights()\n",
    "    protein_names = random_names(height)\n",
    "    make_bar_plot(protein_names, height, ax)\n",
    "plt.show()"
   ]
  },
  {
   "cell_type": "code",
   "execution_count": null,
   "metadata": {},
   "outputs": [],
   "source": []
  }
 ],
 "metadata": {
  "kernelspec": {
   "display_name": "Python 3",
   "language": "python",
   "name": "python3"
  },
  "language_info": {
   "codemirror_mode": {
    "name": "ipython",
    "version": 3
   },
   "file_extension": ".py",
   "mimetype": "text/x-python",
   "name": "python",
   "nbconvert_exporter": "python",
   "pygments_lexer": "ipython3",
   "version": "3.8.2"
  }
 },
 "nbformat": 4,
 "nbformat_minor": 4
}
