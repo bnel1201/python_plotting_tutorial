{
 "cells": [
  {
   "cell_type": "markdown",
   "metadata": {},
   "source": [
    "# 2. Plotting data from spreadsheets (excel or csv)\n",
    "\n",
    "When given the choice `.csv` files are always smaller and faster to work with than excel `.xlsx` files and generally better to use.\n",
    "\n",
    "The main python package for working with spreadsheet data is **Pandas**, a fantastic program that can replace just about every aspect of Excel and is worth learning: [10 min to pandas tutorial](https://pandas.pydata.org/pandas-docs/stable/user_guide/10min.html).\n",
    "\n",
    "If you don't have it installed in your current environment you can install pandas either in a terminal the usual way, or directly from your jupyter notebook using `!pip install ...`\n",
    "\n",
    "Adding `!` in front of any command makes command in your terminal environment outside of python"
   ]
  },
  {
   "cell_type": "code",
   "execution_count": 1,
   "metadata": {},
   "outputs": [
    {
     "name": "stdout",
     "output_type": "stream",
     "text": [
      "Requirement already satisfied: pandas in c:\\users\\m163524\\.venvs\\plotenv\\lib\\site-packages (1.1.4)\n",
      "Requirement already satisfied: python-dateutil>=2.7.3 in c:\\users\\m163524\\.venvs\\plotenv\\lib\\site-packages (from pandas) (2.8.1)\n",
      "Requirement already satisfied: numpy>=1.15.4 in c:\\users\\m163524\\.venvs\\plotenv\\lib\\site-packages (from pandas) (1.19.4)\n",
      "Requirement already satisfied: pytz>=2017.2 in c:\\users\\m163524\\.venvs\\plotenv\\lib\\site-packages (from pandas) (2020.4)\n",
      "Requirement already satisfied: six>=1.5 in c:\\users\\m163524\\.venvs\\plotenv\\lib\\site-packages (from python-dateutil>=2.7.3->pandas) (1.15.0)\n"
     ]
    }
   ],
   "source": [
    "!pip install pandas"
   ]
  },
  {
   "cell_type": "markdown",
   "metadata": {},
   "source": [
    "## Making random sample data and save it to a csv file"
   ]
  },
  {
   "cell_type": "markdown",
   "metadata": {},
   "source": [
    "`from <module_name> import <funcs>` enables importing functions without a namespace"
   ]
  },
  {
   "cell_type": "code",
   "execution_count": 2,
   "metadata": {},
   "outputs": [],
   "source": [
    "from utils import random_heights, random_names"
   ]
  },
  {
   "cell_type": "code",
   "execution_count": 3,
   "metadata": {},
   "outputs": [],
   "source": [
    "h = random_heights()"
   ]
  },
  {
   "cell_type": "code",
   "execution_count": 4,
   "metadata": {},
   "outputs": [],
   "source": [
    "data_dict = {name: random_heights() for name in random_names(h)}"
   ]
  },
  {
   "cell_type": "code",
   "execution_count": 5,
   "metadata": {},
   "outputs": [],
   "source": [
    "import pandas as pd"
   ]
  },
  {
   "cell_type": "code",
   "execution_count": 6,
   "metadata": {},
   "outputs": [],
   "source": [
    "pd.DataFrame(data_dict).to_csv('random_data.csv')"
   ]
  },
  {
   "cell_type": "markdown",
   "metadata": {},
   "source": [
    "## Load the csv data into a DataFrame using `pd.read_csv('filename.csv')`\n",
    "\n",
    "Can also use `pd.read_excel(filename.xlsx)` for excel files"
   ]
  },
  {
   "cell_type": "code",
   "execution_count": 7,
   "metadata": {},
   "outputs": [
    {
     "data": {
      "text/html": [
       "<div>\n",
       "<style scoped>\n",
       "    .dataframe tbody tr th:only-of-type {\n",
       "        vertical-align: middle;\n",
       "    }\n",
       "\n",
       "    .dataframe tbody tr th {\n",
       "        vertical-align: top;\n",
       "    }\n",
       "\n",
       "    .dataframe thead th {\n",
       "        text-align: right;\n",
       "    }\n",
       "</style>\n",
       "<table border=\"1\" class=\"dataframe\">\n",
       "  <thead>\n",
       "    <tr style=\"text-align: right;\">\n",
       "      <th></th>\n",
       "      <th>Unnamed: 0</th>\n",
       "      <th>fqj</th>\n",
       "      <th>wzd</th>\n",
       "      <th>lgs</th>\n",
       "      <th>mrk</th>\n",
       "      <th>tap</th>\n",
       "      <th>xdq</th>\n",
       "      <th>pkk</th>\n",
       "      <th>nga</th>\n",
       "    </tr>\n",
       "  </thead>\n",
       "  <tbody>\n",
       "    <tr>\n",
       "      <th>0</th>\n",
       "      <td>0</td>\n",
       "      <td>0.599670</td>\n",
       "      <td>0.497885</td>\n",
       "      <td>0.793756</td>\n",
       "      <td>1.059363</td>\n",
       "      <td>0.470325</td>\n",
       "      <td>0.635523</td>\n",
       "      <td>0.409058</td>\n",
       "      <td>0.263049</td>\n",
       "    </tr>\n",
       "    <tr>\n",
       "      <th>1</th>\n",
       "      <td>1</td>\n",
       "      <td>0.161140</td>\n",
       "      <td>0.699492</td>\n",
       "      <td>1.552026</td>\n",
       "      <td>1.359897</td>\n",
       "      <td>0.134963</td>\n",
       "      <td>1.652211</td>\n",
       "      <td>0.515912</td>\n",
       "      <td>0.625971</td>\n",
       "    </tr>\n",
       "    <tr>\n",
       "      <th>2</th>\n",
       "      <td>2</td>\n",
       "      <td>1.007490</td>\n",
       "      <td>0.798543</td>\n",
       "      <td>0.199841</td>\n",
       "      <td>0.867142</td>\n",
       "      <td>0.390412</td>\n",
       "      <td>0.390124</td>\n",
       "      <td>0.696264</td>\n",
       "      <td>0.585613</td>\n",
       "    </tr>\n",
       "    <tr>\n",
       "      <th>3</th>\n",
       "      <td>3</td>\n",
       "      <td>0.099293</td>\n",
       "      <td>1.304967</td>\n",
       "      <td>1.378424</td>\n",
       "      <td>0.353227</td>\n",
       "      <td>1.008089</td>\n",
       "      <td>0.413123</td>\n",
       "      <td>0.658561</td>\n",
       "      <td>1.570067</td>\n",
       "    </tr>\n",
       "    <tr>\n",
       "      <th>4</th>\n",
       "      <td>4</td>\n",
       "      <td>0.713945</td>\n",
       "      <td>2.368503</td>\n",
       "      <td>0.674838</td>\n",
       "      <td>1.586223</td>\n",
       "      <td>0.146891</td>\n",
       "      <td>0.022242</td>\n",
       "      <td>0.897174</td>\n",
       "      <td>0.795160</td>\n",
       "    </tr>\n",
       "    <tr>\n",
       "      <th>5</th>\n",
       "      <td>5</td>\n",
       "      <td>0.729260</td>\n",
       "      <td>0.880189</td>\n",
       "      <td>1.302889</td>\n",
       "      <td>0.049789</td>\n",
       "      <td>0.108734</td>\n",
       "      <td>1.156085</td>\n",
       "      <td>1.652597</td>\n",
       "      <td>1.276357</td>\n",
       "    </tr>\n",
       "    <tr>\n",
       "      <th>6</th>\n",
       "      <td>6</td>\n",
       "      <td>0.593068</td>\n",
       "      <td>0.584831</td>\n",
       "      <td>0.528672</td>\n",
       "      <td>0.459458</td>\n",
       "      <td>0.555779</td>\n",
       "      <td>0.315142</td>\n",
       "      <td>0.666733</td>\n",
       "      <td>0.358907</td>\n",
       "    </tr>\n",
       "    <tr>\n",
       "      <th>7</th>\n",
       "      <td>7</td>\n",
       "      <td>0.435871</td>\n",
       "      <td>0.697829</td>\n",
       "      <td>0.079197</td>\n",
       "      <td>0.123046</td>\n",
       "      <td>0.325371</td>\n",
       "      <td>0.820959</td>\n",
       "      <td>0.282659</td>\n",
       "      <td>1.508259</td>\n",
       "    </tr>\n",
       "  </tbody>\n",
       "</table>\n",
       "</div>"
      ],
      "text/plain": [
       "   Unnamed: 0       fqj       wzd       lgs       mrk       tap       xdq  \\\n",
       "0           0  0.599670  0.497885  0.793756  1.059363  0.470325  0.635523   \n",
       "1           1  0.161140  0.699492  1.552026  1.359897  0.134963  1.652211   \n",
       "2           2  1.007490  0.798543  0.199841  0.867142  0.390412  0.390124   \n",
       "3           3  0.099293  1.304967  1.378424  0.353227  1.008089  0.413123   \n",
       "4           4  0.713945  2.368503  0.674838  1.586223  0.146891  0.022242   \n",
       "5           5  0.729260  0.880189  1.302889  0.049789  0.108734  1.156085   \n",
       "6           6  0.593068  0.584831  0.528672  0.459458  0.555779  0.315142   \n",
       "7           7  0.435871  0.697829  0.079197  0.123046  0.325371  0.820959   \n",
       "\n",
       "        pkk       nga  \n",
       "0  0.409058  0.263049  \n",
       "1  0.515912  0.625971  \n",
       "2  0.696264  0.585613  \n",
       "3  0.658561  1.570067  \n",
       "4  0.897174  0.795160  \n",
       "5  1.652597  1.276357  \n",
       "6  0.666733  0.358907  \n",
       "7  0.282659  1.508259  "
      ]
     },
     "execution_count": 7,
     "metadata": {},
     "output_type": "execute_result"
    }
   ],
   "source": [
    "df = pd.read_csv('random_data.csv')\n",
    "df"
   ]
  },
  {
   "cell_type": "markdown",
   "metadata": {},
   "source": [
    "Access different columns by `df['col name']`"
   ]
  },
  {
   "cell_type": "code",
   "execution_count": 8,
   "metadata": {},
   "outputs": [
    {
     "data": {
      "text/plain": [
       "'wzd'"
      ]
     },
     "execution_count": 8,
     "metadata": {},
     "output_type": "execute_result"
    }
   ],
   "source": [
    "col_name = df.columns[2]\n",
    "col_name"
   ]
  },
  {
   "cell_type": "code",
   "execution_count": 9,
   "metadata": {},
   "outputs": [
    {
     "data": {
      "text/plain": [
       "0    0.497885\n",
       "1    0.699492\n",
       "2    0.798543\n",
       "3    1.304967\n",
       "4    2.368503\n",
       "5    0.880189\n",
       "6    0.584831\n",
       "7    0.697829\n",
       "Name: wzd, dtype: float64"
      ]
     },
     "execution_count": 9,
     "metadata": {},
     "output_type": "execute_result"
    }
   ],
   "source": [
    "df[col_name]"
   ]
  },
  {
   "cell_type": "code",
   "execution_count": 10,
   "metadata": {},
   "outputs": [],
   "source": [
    "import matplotlib.pyplot as plt"
   ]
  },
  {
   "cell_type": "code",
   "execution_count": 11,
   "metadata": {},
   "outputs": [
    {
     "data": {
      "image/png": "[encoded data removed]",
      "text/plain": [
       "<Figure size 432x288 with 1 Axes>"
      ]
     },
     "metadata": {
      "needs_background": "light"
     },
     "output_type": "display_data"
    }
   ],
   "source": [
    "col = col_name\n",
    "plt.plot(df[col], label=col)\n",
    "plt.title(col)\n",
    "plt.show()"
   ]
  },
  {
   "cell_type": "markdown",
   "metadata": {},
   "source": [
    "Below is another example of using list comprehensions to apply a function to every item of a list or collection"
   ]
  },
  {
   "cell_type": "code",
   "execution_count": 12,
   "metadata": {},
   "outputs": [
    {
     "data": {
      "image/png": "[encoded data removed]",
      "text/plain": [
       "<Figure size 432x288 with 1 Axes>"
      ]
     },
     "metadata": {
      "needs_background": "light"
     },
     "output_type": "display_data"
    }
   ],
   "source": [
    "[plt.plot(df[col], label=col) for col in df.columns]\n",
    "plt.legend()\n",
    "plt.show()"
   ]
  },
  {
   "cell_type": "code",
   "execution_count": null,
   "metadata": {},
   "outputs": [],
   "source": []
  }
 ],
 "metadata": {
  "kernelspec": {
   "display_name": "Python 3",
   "language": "python",
   "name": "python3"
  },
  "language_info": {
   "codemirror_mode": {
    "name": "ipython",
    "version": 3
   },
   "file_extension": ".py",
   "mimetype": "text/x-python",
   "name": "python",
   "nbconvert_exporter": "python",
   "pygments_lexer": "ipython3",
   "version": "3.8.2"
  }
 },
 "nbformat": 4,
 "nbformat_minor": 4
}
