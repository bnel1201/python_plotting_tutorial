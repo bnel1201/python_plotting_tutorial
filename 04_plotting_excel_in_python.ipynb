{
 "cells": [
  {
   "cell_type": "markdown",
   "metadata": {},
   "source": [
    "# Plotting Excel in Python\n",
    "\n",
    "Cause sometimes you need to work with others more comfortable with Microsoft Office tools\n",
    "\n",
    "## Resources for help\n",
    "[openpyxl library](https://openpyxl.readthedocs.io/en/stable/)\n",
    "\n",
    " - [OpenPyXL charts documentation](https://openpyxl.readthedocs.io/en/stable/charts/bar.html)\n",
    "\n",
    "[Automate the Boring Stuff with Python Ch. 12](https://automatetheboringstuff.com/chapter12/)"
   ]
  },
  {
   "cell_type": "markdown",
   "metadata": {},
   "source": [
    "Youtube vid:\n",
    "https://www.youtube.com/watch?v=8z61LhMsyDM"
   ]
  },
  {
   "cell_type": "markdown",
   "metadata": {},
   "source": [
    "## Make some fake data "
   ]
  },
  {
   "cell_type": "code",
   "execution_count": 10,
   "metadata": {},
   "outputs": [],
   "source": [
    "import matplotlib.pyplot as plt\n",
    "\n",
    "import utils"
   ]
  },
  {
   "cell_type": "code",
   "execution_count": 11,
   "metadata": {},
   "outputs": [],
   "source": [
    "means = utils.random_heights()\n",
    "stds =  utils.random_heights()/10\n",
    "names = utils.random_names(means)"
   ]
  },
  {
   "cell_type": "code",
   "execution_count": 1,
   "metadata": {},
   "outputs": [
    {
     "name": "stdout",
     "output_type": "stream",
     "text": [
      "Requirement already satisfied: openpyxl in c:\\users\\m163524\\.venvs\\plotenv\\lib\\site-packages (3.0.5)\n",
      "Requirement already satisfied: jdcal in c:\\users\\m163524\\.venvs\\plotenv\\lib\\site-packages (from openpyxl) (1.4.1)\n",
      "Requirement already satisfied: et-xmlfile in c:\\users\\m163524\\.venvs\\plotenv\\lib\\site-packages (from openpyxl) (1.0.1)\n"
     ]
    }
   ],
   "source": [
    "! pip install openpyxl"
   ]
  },
  {
   "cell_type": "code",
   "execution_count": 60,
   "metadata": {},
   "outputs": [],
   "source": [
    "import openpyxl"
   ]
  },
  {
   "cell_type": "code",
   "execution_count": 61,
   "metadata": {},
   "outputs": [],
   "source": [
    "wb = openpyxl.Workbook()"
   ]
  },
  {
   "cell_type": "code",
   "execution_count": 62,
   "metadata": {},
   "outputs": [],
   "source": [
    "sheet = wb.active"
   ]
  },
  {
   "cell_type": "code",
   "execution_count": 63,
   "metadata": {},
   "outputs": [],
   "source": [
    "sheet['A1'] = 'names'\n",
    "sheet['B1'] = 'means'\n",
    "sheet['C1'] = 'stds'\n",
    "for i in range(2,len(means)):\n",
    "    sheet['A' + str(i)] = names[i]\n",
    "    sheet['B' + str(i)] = stds[i]\n",
    "    sheet['C' + str(i)] = means[i]"
   ]
  },
  {
   "cell_type": "code",
   "execution_count": 64,
   "metadata": {},
   "outputs": [],
   "source": [
    "name_ref = openpyxl.chart.Reference(sheet, min_col=1, min_row=2, max_col=1, max_row=len(means))\n",
    "mean_ref = openpyxl.chart.Reference(sheet, min_col=2, min_row=2, max_col=2, max_row=len(means))\n",
    "std_ref = openpyxl.chart.Reference(sheet, min_col=3, min_row=2, max_col=3, max_row=len(means))"
   ]
  },
  {
   "cell_type": "code",
   "execution_count": 65,
   "metadata": {},
   "outputs": [],
   "source": [
    "names_series = openpyxl.chart.Series(name_ref, title='names')\n",
    "means_series = openpyxl.chart.Series(mean_ref, title='means')\n",
    "stds_series = openpyxl.chart.Series(std_ref, title='stds')"
   ]
  },
  {
   "cell_type": "code",
   "execution_count": 66,
   "metadata": {},
   "outputs": [],
   "source": [
    "chartObj = openpyxl.chart.BarChart()\n",
    "chartObj.append(means_series)\n",
    "chartObj.title = 'Cytokine array results'"
   ]
  },
  {
   "cell_type": "code",
   "execution_count": 67,
   "metadata": {},
   "outputs": [],
   "source": [
    "sheet.add_chart(chartObj, 'E1')"
   ]
  },
  {
   "cell_type": "code",
   "execution_count": 68,
   "metadata": {},
   "outputs": [],
   "source": [
    "wb.save('sampleChart.xlsx')"
   ]
  },
  {
   "cell_type": "code",
   "execution_count": null,
   "metadata": {},
   "outputs": [],
   "source": []
  }
 ],
 "metadata": {
  "kernelspec": {
   "display_name": "Python 3",
   "language": "python",
   "name": "python3"
  },
  "language_info": {
   "codemirror_mode": {
    "name": "ipython",
    "version": 3
   },
   "file_extension": ".py",
   "mimetype": "text/x-python",
   "name": "python",
   "nbconvert_exporter": "python",
   "pygments_lexer": "ipython3",
   "version": "3.8.2"
  }
 },
 "nbformat": 4,
 "nbformat_minor": 4
}
