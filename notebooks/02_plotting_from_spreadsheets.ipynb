{
 "cells": [
  {
   "cell_type": "markdown",
   "metadata": {},
   "source": [
    "# 2. Plotting data from spreadsheets (excel or csv)\n",
    "\n",
    "When given the choice `.csv` files are always smaller and faster to work with than excel `.xlsx` files and generally better to use.\n",
    "\n",
    "The main python package for working with spreadsheet data is **Pandas**, a fantastic program that can replace just about every aspect of Excel and is worth learning: [10 min to pandas tutorial](https://pandas.pydata.org/pandas-docs/stable/user_guide/10min.html).\n",
    "\n",
    "If you don't have it installed in your current environment you can install pandas either in a terminal the usual way, or directly from your jupyter notebook using `!pip install ...`\n",
    "\n",
    "Adding `!` in front of any command makes command in your terminal environment outside of python"
   ]
  },
  {
   "cell_type": "code",
   "execution_count": 1,
   "metadata": {},
   "outputs": [
    {
     "name": "stdout",
     "output_type": "stream",
     "text": [
      "Requirement already satisfied: pandas in c:\\users\\m163524\\.venvs\\plotenv\\lib\\site-packages (1.1.4)\n",
      "Requirement already satisfied: pytz>=2017.2 in c:\\users\\m163524\\.venvs\\plotenv\\lib\\site-packages (from pandas) (2020.4)\n",
      "Requirement already satisfied: python-dateutil>=2.7.3 in c:\\users\\m163524\\.venvs\\plotenv\\lib\\site-packages (from pandas) (2.8.1)\n",
      "Requirement already satisfied: numpy>=1.15.4 in c:\\users\\m163524\\.venvs\\plotenv\\lib\\site-packages (from pandas) (1.19.4)\n",
      "Requirement already satisfied: six>=1.5 in c:\\users\\m163524\\.venvs\\plotenv\\lib\\site-packages (from python-dateutil>=2.7.3->pandas) (1.15.0)\n"
     ]
    }
   ],
   "source": [
    "!pip install pandas"
   ]
  },
  {
   "cell_type": "markdown",
   "metadata": {},
   "source": [
    "## Making random sample data and save it to a csv file"
   ]
  },
  {
   "cell_type": "markdown",
   "metadata": {},
   "source": [
    "`from <module_name> import <funcs>` enables importing functions without a namespace"
   ]
  },
  {
   "cell_type": "code",
   "execution_count": 2,
   "metadata": {},
   "outputs": [],
   "source": [
    "from utils import random_heights, random_names"
   ]
  },
  {
   "cell_type": "code",
   "execution_count": 3,
   "metadata": {},
   "outputs": [],
   "source": [
    "h = random_heights()"
   ]
  },
  {
   "cell_type": "code",
   "execution_count": 9,
   "metadata": {},
   "outputs": [],
   "source": [
    "data_dict = {name: random_heights() for name in random_names(h)}"
   ]
  },
  {
   "cell_type": "code",
   "execution_count": 10,
   "metadata": {},
   "outputs": [],
   "source": [
    "import pandas as pd"
   ]
  },
  {
   "cell_type": "code",
   "execution_count": 11,
   "metadata": {},
   "outputs": [],
   "source": [
    "pd.DataFrame(data_dict,  index=list(range(8))).to_csv('random_data.csv', index=False)"
   ]
  },
  {
   "cell_type": "markdown",
   "metadata": {},
   "source": [
    "## Load the csv data into a DataFrame using `pd.read_csv('filename.csv')`\n",
    "\n",
    "Can also use `pd.read_excel(filename.xlsx)` for excel files"
   ]
  },
  {
   "cell_type": "code",
   "execution_count": 12,
   "metadata": {},
   "outputs": [
    {
     "data": {
      "text/html": [
       "<div>\n",
       "<style scoped>\n",
       "    .dataframe tbody tr th:only-of-type {\n",
       "        vertical-align: middle;\n",
       "    }\n",
       "\n",
       "    .dataframe tbody tr th {\n",
       "        vertical-align: top;\n",
       "    }\n",
       "\n",
       "    .dataframe thead th {\n",
       "        text-align: right;\n",
       "    }\n",
       "</style>\n",
       "<table border=\"1\" class=\"dataframe\">\n",
       "  <thead>\n",
       "    <tr style=\"text-align: right;\">\n",
       "      <th></th>\n",
       "      <th>hqu</th>\n",
       "      <th>ifn</th>\n",
       "      <th>gfa</th>\n",
       "      <th>fas</th>\n",
       "      <th>egp</th>\n",
       "      <th>oza</th>\n",
       "      <th>rii</th>\n",
       "      <th>vtz</th>\n",
       "    </tr>\n",
       "  </thead>\n",
       "  <tbody>\n",
       "    <tr>\n",
       "      <th>0</th>\n",
       "      <td>0.494248</td>\n",
       "      <td>0.581800</td>\n",
       "      <td>0.870338</td>\n",
       "      <td>1.359496</td>\n",
       "      <td>1.037280</td>\n",
       "      <td>0.650156</td>\n",
       "      <td>0.188351</td>\n",
       "      <td>1.014359</td>\n",
       "    </tr>\n",
       "    <tr>\n",
       "      <th>1</th>\n",
       "      <td>0.441626</td>\n",
       "      <td>0.600225</td>\n",
       "      <td>0.142463</td>\n",
       "      <td>0.257836</td>\n",
       "      <td>0.403100</td>\n",
       "      <td>0.439939</td>\n",
       "      <td>0.382977</td>\n",
       "      <td>0.284791</td>\n",
       "    </tr>\n",
       "    <tr>\n",
       "      <th>2</th>\n",
       "      <td>0.246124</td>\n",
       "      <td>0.500012</td>\n",
       "      <td>0.734383</td>\n",
       "      <td>1.859517</td>\n",
       "      <td>2.921350</td>\n",
       "      <td>1.452048</td>\n",
       "      <td>0.020434</td>\n",
       "      <td>0.469259</td>\n",
       "    </tr>\n",
       "    <tr>\n",
       "      <th>3</th>\n",
       "      <td>0.246214</td>\n",
       "      <td>1.075274</td>\n",
       "      <td>1.996210</td>\n",
       "      <td>0.526347</td>\n",
       "      <td>0.437804</td>\n",
       "      <td>0.641232</td>\n",
       "      <td>1.483164</td>\n",
       "      <td>1.043496</td>\n",
       "    </tr>\n",
       "    <tr>\n",
       "      <th>4</th>\n",
       "      <td>0.645317</td>\n",
       "      <td>0.911781</td>\n",
       "      <td>0.650420</td>\n",
       "      <td>1.228107</td>\n",
       "      <td>0.266378</td>\n",
       "      <td>0.313170</td>\n",
       "      <td>0.512248</td>\n",
       "      <td>1.861810</td>\n",
       "    </tr>\n",
       "    <tr>\n",
       "      <th>5</th>\n",
       "      <td>1.144317</td>\n",
       "      <td>0.276184</td>\n",
       "      <td>0.198239</td>\n",
       "      <td>0.070444</td>\n",
       "      <td>0.812649</td>\n",
       "      <td>0.995394</td>\n",
       "      <td>0.847369</td>\n",
       "      <td>1.613935</td>\n",
       "    </tr>\n",
       "    <tr>\n",
       "      <th>6</th>\n",
       "      <td>1.193077</td>\n",
       "      <td>0.310143</td>\n",
       "      <td>0.901369</td>\n",
       "      <td>0.650103</td>\n",
       "      <td>0.783577</td>\n",
       "      <td>0.110341</td>\n",
       "      <td>0.447263</td>\n",
       "      <td>0.640680</td>\n",
       "    </tr>\n",
       "    <tr>\n",
       "      <th>7</th>\n",
       "      <td>0.067140</td>\n",
       "      <td>1.854093</td>\n",
       "      <td>0.908031</td>\n",
       "      <td>0.674078</td>\n",
       "      <td>0.279324</td>\n",
       "      <td>1.058475</td>\n",
       "      <td>0.344997</td>\n",
       "      <td>1.368858</td>\n",
       "    </tr>\n",
       "  </tbody>\n",
       "</table>\n",
       "</div>"
      ],
      "text/plain": [
       "        hqu       ifn       gfa       fas       egp       oza       rii  \\\n",
       "0  0.494248  0.581800  0.870338  1.359496  1.037280  0.650156  0.188351   \n",
       "1  0.441626  0.600225  0.142463  0.257836  0.403100  0.439939  0.382977   \n",
       "2  0.246124  0.500012  0.734383  1.859517  2.921350  1.452048  0.020434   \n",
       "3  0.246214  1.075274  1.996210  0.526347  0.437804  0.641232  1.483164   \n",
       "4  0.645317  0.911781  0.650420  1.228107  0.266378  0.313170  0.512248   \n",
       "5  1.144317  0.276184  0.198239  0.070444  0.812649  0.995394  0.847369   \n",
       "6  1.193077  0.310143  0.901369  0.650103  0.783577  0.110341  0.447263   \n",
       "7  0.067140  1.854093  0.908031  0.674078  0.279324  1.058475  0.344997   \n",
       "\n",
       "        vtz  \n",
       "0  1.014359  \n",
       "1  0.284791  \n",
       "2  0.469259  \n",
       "3  1.043496  \n",
       "4  1.861810  \n",
       "5  1.613935  \n",
       "6  0.640680  \n",
       "7  1.368858  "
      ]
     },
     "execution_count": 12,
     "metadata": {},
     "output_type": "execute_result"
    }
   ],
   "source": [
    "df = pd.read_csv('random_data.csv')\n",
    "df"
   ]
  },
  {
   "cell_type": "code",
   "execution_count": 29,
   "metadata": {},
   "outputs": [
    {
     "data": {
      "text/plain": [
       "range(0, 8)"
      ]
     },
     "execution_count": 29,
     "metadata": {},
     "output_type": "execute_result"
    }
   ],
   "source": [
    "range(len(df))"
   ]
  },
  {
   "cell_type": "code",
   "execution_count": 27,
   "metadata": {},
   "outputs": [],
   "source": [
    "import numpy as np"
   ]
  },
  {
   "cell_type": "code",
   "execution_count": 26,
   "metadata": {},
   "outputs": [
    {
     "data": {
      "text/plain": [
       "0.4942479838859792"
      ]
     },
     "execution_count": 26,
     "metadata": {},
     "output_type": "execute_result"
    }
   ],
   "source": [
    "df['hqu'].iloc[0]"
   ]
  },
  {
   "cell_type": "code",
   "execution_count": 19,
   "metadata": {},
   "outputs": [
    {
     "data": {
      "text/plain": [
       "8"
      ]
     },
     "execution_count": 19,
     "metadata": {},
     "output_type": "execute_result"
    }
   ],
   "source": [
    "len(df.1columns)"
   ]
  },
  {
   "cell_type": "code",
   "execution_count": 21,
   "metadata": {},
   "outputs": [
    {
     "data": {
      "text/plain": [
       "[0, 2, 4, 6, 8]"
      ]
     },
     "execution_count": 21,
     "metadata": {},
     "output_type": "execute_result"
    }
   ],
   "source": [
    "list(range(0, 10, 2))"
   ]
  },
  {
   "cell_type": "markdown",
   "metadata": {},
   "source": [
    "Access columnsferent columns by `df['col name']`"
   ]
  },
  {
   "cell_type": "code",
   "execution_count": 13,
   "metadata": {},
   "outputs": [
    {
     "data": {
      "text/plain": [
       "Index(['hqu', 'ifn', 'gfa', 'fas', 'egp', 'oza', 'rii', 'vtz'], dtype='object')"
      ]
     },
     "execution_count": 13,
     "metadata": {},
     "output_type": "execute_result"
    }
   ],
   "source": [
    "df.columns"
   ]
  },
  {
   "cell_type": "code",
   "execution_count": 9,
   "metadata": {},
   "outputs": [
    {
     "data": {
      "text/plain": [
       "'vnm'"
      ]
     },
     "execution_count": 9,
     "metadata": {},
     "output_type": "execute_result"
    }
   ],
   "source": [
    "col_name = df.columns[2]\n",
    "col_name"
   ]
  },
  {
   "cell_type": "code",
   "execution_count": 10,
   "metadata": {},
   "outputs": [
    {
     "data": {
      "text/plain": [
       "0    0.414821\n",
       "1    1.567049\n",
       "2    0.388029\n",
       "3    0.010861\n",
       "4    0.640976\n",
       "5    0.712376\n",
       "6    0.165693\n",
       "7    0.465440\n",
       "Name: vnm, dtype: float64"
      ]
     },
     "execution_count": 10,
     "metadata": {},
     "output_type": "execute_result"
    }
   ],
   "source": [
    "df[col_name]"
   ]
  },
  {
   "cell_type": "code",
   "execution_count": 11,
   "metadata": {},
   "outputs": [],
   "source": [
    "import matplotlib.pyplot as plt"
   ]
  },
  {
   "cell_type": "code",
   "execution_count": 12,
   "metadata": {},
   "outputs": [
    {
     "data": {
      "image/png": "[encoded data removed]",
      "text/plain": [
       "<Figure size 432x288 with 1 Axes>"
      ]
     },
     "metadata": {
      "needs_background": "light"
     },
     "output_type": "display_data"
    }
   ],
   "source": [
    "col = col_name\n",
    "plt.plot(df[col], label=col)\n",
    "plt.title(col)\n",
    "plt.show()"
   ]
  },
  {
   "cell_type": "markdown",
   "metadata": {},
   "source": [
    "Below is another example of using list comprehensions to apply a function to every item of a list or collection"
   ]
  },
  {
   "cell_type": "code",
   "execution_count": 13,
   "metadata": {},
   "outputs": [
    {
     "data": {
      "image/png": "[encoded data removed]",
      "text/plain": [
       "<Figure size 432x288 with 1 Axes>"
      ]
     },
     "metadata": {
      "needs_background": "light"
     },
     "output_type": "display_data"
    }
   ],
   "source": [
    "[plt.plot(df[col], label=col) for col in df.columns]\n",
    "plt.legend()\n",
    "plt.show()"
   ]
  },
  {
   "cell_type": "code",
   "execution_count": null,
   "metadata": {},
   "outputs": [],
   "source": []
  }
 ],
 "metadata": {
  "kernelspec": {
   "display_name": "Python 3",
   "language": "python",
   "name": "python3"
  },
  "language_info": {
   "codemirror_mode": {
    "name": "ipython",
    "version": 3
   },
   "file_extension": ".py",
   "mimetype": "text/x-python",
   "name": "python",
   "nbconvert_exporter": "python",
   "pygments_lexer": "ipython3",
   "version": "3.8.2"
  }
 },
 "nbformat": 4,
 "nbformat_minor": 4
}
