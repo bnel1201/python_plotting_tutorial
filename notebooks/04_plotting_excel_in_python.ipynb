{
 "cells": [
  {
   "cell_type": "markdown",
   "metadata": {},
   "source": [
    "# Plotting Excel in Python\n",
    "\n",
    "Cause sometimes you need to work with others more comfortable with Microsoft Office tools\n",
    "\n",
    "## Resources for help\n",
    "[openpyxl library](https://openpyxl.readthedocs.io/en/stable/)\n",
    "\n",
    " - [OpenPyXL charts documentation](https://openpyxl.readthedocs.io/en/stable/charts/bar.html)\n",
    "\n",
    "[Automate the Boring Stuff with Python Ch. 12](https://automatetheboringstuff.com/chapter12/)"
   ]
  },
  {
   "cell_type": "markdown",
   "metadata": {},
   "source": [
    "Youtube vid:\n",
    "https://www.youtube.com/watch?v=8z61LhMsyDM"
   ]
  },
  {
   "cell_type": "markdown",
   "metadata": {},
   "source": [
    "## Make some fake data "
   ]
  },
  {
   "cell_type": "code",
   "execution_count": 1,
   "metadata": {},
   "outputs": [],
   "source": [
    "import matplotlib.pyplot as plt\n",
    "import pandas as pd\n",
    "from openpyxl.utils.dataframe import dataframe_to_rows\n",
    "from openpyxl import Workbook\n",
    "from openpyxl.chart import Reference\n",
    "from openpyxl.chart.data_source import NumDataSource\n",
    "from openpyxl.chart.data_source import NumRef\n",
    "from openpyxl.chart.error_bar import ErrorBars\n",
    "from openpyxl.chart.series_factory import SeriesFactory\n",
    "from openpyxl.chart import BarChart\n",
    "\n",
    "import utils"
   ]
  },
  {
   "cell_type": "code",
   "execution_count": 2,
   "metadata": {},
   "outputs": [],
   "source": [
    "ngroups = 6\n",
    "\n",
    "means = [utils.random_heights() for i in range(ngroups)]\n",
    "stds =  [utils.random_heights()/10 for i in range(ngroups)]\n",
    "names = utils.random_names(means[0])"
   ]
  },
  {
   "cell_type": "code",
   "execution_count": 3,
   "metadata": {},
   "outputs": [
    {
     "output_type": "execute_result",
     "data": {
      "text/plain": [
       "     group 0 mean  group 0 std  group 1 mean  group 1 std  group 2 mean  \\\n",
       "bly      0.382261     0.056637      0.132090     0.102985      0.560602   \n",
       "ytc      2.442051     0.109679      0.852712     0.036745      0.372749   \n",
       "yaa      2.591870     0.214162      0.326223     0.165174      0.322672   \n",
       "izq      1.620975     0.051761      0.190076     0.074457      1.037734   \n",
       "nxn      0.529553     0.139753      0.416810     0.105088      0.584182   \n",
       "dfs      1.717542     0.054463      0.073150     0.169340      0.019679   \n",
       "yae      0.158410     0.240478      1.448997     0.023741      0.554473   \n",
       "apo      0.352073     0.160417      0.728218     0.034424      1.292122   \n",
       "\n",
       "     group 2 std  group 3 mean  group 3 std  group 4 mean  group 4 std  \\\n",
       "bly     0.040105      0.619217     0.059136      0.509123     0.035278   \n",
       "ytc     0.053047      0.336591     0.007514      0.602521     0.062069   \n",
       "yaa     0.129101      1.542011     0.023878      1.497023     0.109981   \n",
       "izq     0.208695      1.085066     0.099313      0.939723     0.140178   \n",
       "nxn     0.064066      1.137892     0.049405      1.177015     0.040173   \n",
       "dfs     0.066583      0.327596     0.019088      0.283259     0.063793   \n",
       "yae     0.029241      0.810482     0.104377      0.793596     0.137458   \n",
       "apo     0.032463      0.639092     0.184529      0.669954     0.082093   \n",
       "\n",
       "     group 5 mean  group 5 std  \n",
       "bly      1.513015     0.043684  \n",
       "ytc      0.517119     0.038464  \n",
       "yaa      0.124170     0.007184  \n",
       "izq      0.758618     0.002476  \n",
       "nxn      1.013285     0.028430  \n",
       "dfs      1.369350     0.077416  \n",
       "yae      0.012680     0.048766  \n",
       "apo      0.789839     0.065426  "
      ],
      "text/html": "<div>\n<style scoped>\n    .dataframe tbody tr th:only-of-type {\n        vertical-align: middle;\n    }\n\n    .dataframe tbody tr th {\n        vertical-align: top;\n    }\n\n    .dataframe thead th {\n        text-align: right;\n    }\n</style>\n<table border=\"1\" class=\"dataframe\">\n  <thead>\n    <tr style=\"text-align: right;\">\n      <th></th>\n      <th>group 0 mean</th>\n      <th>group 0 std</th>\n      <th>group 1 mean</th>\n      <th>group 1 std</th>\n      <th>group 2 mean</th>\n      <th>group 2 std</th>\n      <th>group 3 mean</th>\n      <th>group 3 std</th>\n      <th>group 4 mean</th>\n      <th>group 4 std</th>\n      <th>group 5 mean</th>\n      <th>group 5 std</th>\n    </tr>\n  </thead>\n  <tbody>\n    <tr>\n      <th>bly</th>\n      <td>0.382261</td>\n      <td>0.056637</td>\n      <td>0.132090</td>\n      <td>0.102985</td>\n      <td>0.560602</td>\n      <td>0.040105</td>\n      <td>0.619217</td>\n      <td>0.059136</td>\n      <td>0.509123</td>\n      <td>0.035278</td>\n      <td>1.513015</td>\n      <td>0.043684</td>\n    </tr>\n    <tr>\n      <th>ytc</th>\n      <td>2.442051</td>\n      <td>0.109679</td>\n      <td>0.852712</td>\n      <td>0.036745</td>\n      <td>0.372749</td>\n      <td>0.053047</td>\n      <td>0.336591</td>\n      <td>0.007514</td>\n      <td>0.602521</td>\n      <td>0.062069</td>\n      <td>0.517119</td>\n      <td>0.038464</td>\n    </tr>\n    <tr>\n      <th>yaa</th>\n      <td>2.591870</td>\n      <td>0.214162</td>\n      <td>0.326223</td>\n      <td>0.165174</td>\n      <td>0.322672</td>\n      <td>0.129101</td>\n      <td>1.542011</td>\n      <td>0.023878</td>\n      <td>1.497023</td>\n      <td>0.109981</td>\n      <td>0.124170</td>\n      <td>0.007184</td>\n    </tr>\n    <tr>\n      <th>izq</th>\n      <td>1.620975</td>\n      <td>0.051761</td>\n      <td>0.190076</td>\n      <td>0.074457</td>\n      <td>1.037734</td>\n      <td>0.208695</td>\n      <td>1.085066</td>\n      <td>0.099313</td>\n      <td>0.939723</td>\n      <td>0.140178</td>\n      <td>0.758618</td>\n      <td>0.002476</td>\n    </tr>\n    <tr>\n      <th>nxn</th>\n      <td>0.529553</td>\n      <td>0.139753</td>\n      <td>0.416810</td>\n      <td>0.105088</td>\n      <td>0.584182</td>\n      <td>0.064066</td>\n      <td>1.137892</td>\n      <td>0.049405</td>\n      <td>1.177015</td>\n      <td>0.040173</td>\n      <td>1.013285</td>\n      <td>0.028430</td>\n    </tr>\n    <tr>\n      <th>dfs</th>\n      <td>1.717542</td>\n      <td>0.054463</td>\n      <td>0.073150</td>\n      <td>0.169340</td>\n      <td>0.019679</td>\n      <td>0.066583</td>\n      <td>0.327596</td>\n      <td>0.019088</td>\n      <td>0.283259</td>\n      <td>0.063793</td>\n      <td>1.369350</td>\n      <td>0.077416</td>\n    </tr>\n    <tr>\n      <th>yae</th>\n      <td>0.158410</td>\n      <td>0.240478</td>\n      <td>1.448997</td>\n      <td>0.023741</td>\n      <td>0.554473</td>\n      <td>0.029241</td>\n      <td>0.810482</td>\n      <td>0.104377</td>\n      <td>0.793596</td>\n      <td>0.137458</td>\n      <td>0.012680</td>\n      <td>0.048766</td>\n    </tr>\n    <tr>\n      <th>apo</th>\n      <td>0.352073</td>\n      <td>0.160417</td>\n      <td>0.728218</td>\n      <td>0.034424</td>\n      <td>1.292122</td>\n      <td>0.032463</td>\n      <td>0.639092</td>\n      <td>0.184529</td>\n      <td>0.669954</td>\n      <td>0.082093</td>\n      <td>0.789839</td>\n      <td>0.065426</td>\n    </tr>\n  </tbody>\n</table>\n</div>"
     },
     "metadata": {},
     "execution_count": 3
    }
   ],
   "source": [
    "z = dict()\n",
    "dicts = [{f'group {i} mean': mean, f'group {i} std': std} for mean, std, i in zip(means, stds, range(len(means)))]\n",
    "[z.update(d) for d in dicts]\n",
    "df = pd.DataFrame(z, index = names)\n",
    "df"
   ]
  },
  {
   "cell_type": "code",
   "execution_count": 4,
   "metadata": {},
   "outputs": [
    {
     "output_type": "execute_result",
     "data": {
      "text/plain": [
       "['group 0 mean',\n",
       " 'group 0 std',\n",
       " 'group 1 mean',\n",
       " 'group 1 std',\n",
       " 'group 2 mean',\n",
       " 'group 2 std',\n",
       " 'group 3 mean',\n",
       " 'group 3 std',\n",
       " 'group 4 mean',\n",
       " 'group 4 std',\n",
       " 'group 5 mean',\n",
       " 'group 5 std']"
      ]
     },
     "metadata": {},
     "execution_count": 4
    }
   ],
   "source": [
    "cols = df.columns.tolist()\n",
    "cols"
   ]
  },
  {
   "cell_type": "code",
   "execution_count": 5,
   "metadata": {},
   "outputs": [
    {
     "output_type": "execute_result",
     "data": {
      "text/plain": [
       "['group 0 mean',\n",
       " 'group 1 mean',\n",
       " 'group 2 mean',\n",
       " 'group 3 mean',\n",
       " 'group 4 mean',\n",
       " 'group 5 mean',\n",
       " 'group 0 std',\n",
       " 'group 1 std',\n",
       " 'group 2 std',\n",
       " 'group 3 std',\n",
       " 'group 4 std',\n",
       " 'group 5 std']"
      ]
     },
     "metadata": {},
     "execution_count": 5
    }
   ],
   "source": [
    "rearrange_cols = [*cols[0::2], *cols[1::2]]\n",
    "rearrange_cols"
   ]
  },
  {
   "cell_type": "code",
   "execution_count": 6,
   "metadata": {},
   "outputs": [],
   "source": [
    "rearranged_df = df[rearrange_cols]"
   ]
  },
  {
   "cell_type": "code",
   "execution_count": 7,
   "metadata": {},
   "outputs": [],
   "source": [
    "wb = Workbook()\n",
    "ws = wb.active\n",
    "\n",
    "for r in dataframe_to_rows(rearranged_df, index=True, header=True):\n",
    "    ws.append(r)"
   ]
  },
  {
   "cell_type": "code",
   "execution_count": 8,
   "metadata": {},
   "outputs": [],
   "source": [
    "name_ref = Reference(ws, min_col=1, min_row=3, max_col=1, max_row=len(means[0])+2)\n",
    "col_idx = 2\n",
    "mean_refs = [Reference(ws, min_col=i, min_row=3, max_col=i, max_row=len(means[0])+2) for i in range(col_idx, col_idx+ngroups)]\n",
    "col_idx+=ngroups\n",
    "std_refs = [Reference(ws, min_col=i, min_row=3, max_col=i, max_row=len(means[0])+2) for i in range(col_idx, col_idx+ngroups)]"
   ]
  },
  {
   "cell_type": "code",
   "execution_count": 9,
   "metadata": {},
   "outputs": [],
   "source": [
    "means_series = [SeriesFactory(mean_ref, title=f'group {i}') for i, mean_ref in enumerate(mean_refs)]"
   ]
  },
  {
   "cell_type": "code",
   "execution_count": 10,
   "metadata": {},
   "outputs": [],
   "source": [
    "for i, std_ref in enumerate(std_refs):\n",
    "    eBarsNumDataSource = NumDataSource(NumRef(std_ref))\n",
    "    means_series[i].errBars = ErrorBars(errDir='y', errValType='cust', plus=eBarsNumDataSource, minus=eBarsNumDataSource)"
   ]
  },
  {
   "cell_type": "code",
   "execution_count": 11,
   "metadata": {},
   "outputs": [],
   "source": [
    "chartObj = BarChart()\n",
    "[chartObj.append(means) for means in means_series]\n",
    "chartObj.title = 'Cytokine array results'\n",
    "chartObj.set_categories(name_ref)\n",
    "chartObj.y_axis.title = \"Relative Intensity\"\n",
    "chartObj.x_axis.title = \"Cytokine\""
   ]
  },
  {
   "cell_type": "code",
   "execution_count": 12,
   "metadata": {},
   "outputs": [],
   "source": [
    "ws.add_chart(chartObj, 'B12')"
   ]
  },
  {
   "source": [
    "wb.save('sampleChart.xlsx')"
   ],
   "cell_type": "code",
   "metadata": {},
   "execution_count": 13,
   "outputs": []
  },
  {
   "cell_type": "code",
   "execution_count": null,
   "metadata": {},
   "outputs": [],
   "source": []
  }
 ],
 "metadata": {
  "kernelspec": {
   "name": "python3",
   "display_name": "Python 3.9.0 64-bit",
   "metadata": {
    "interpreter": {
     "hash": "814eb26e1174f0a574b1e783389d2a3850829ed05cdff02ee6e180190f73d800"
    }
   }
  },
  "language_info": {
   "codemirror_mode": {
    "name": "ipython",
    "version": 3
   },
   "file_extension": ".py",
   "mimetype": "text/x-python",
   "name": "python",
   "nbconvert_exporter": "python",
   "pygments_lexer": "ipython3",
   "version": "3.9.0-final"
  }
 },
 "nbformat": 4,
 "nbformat_minor": 4
}